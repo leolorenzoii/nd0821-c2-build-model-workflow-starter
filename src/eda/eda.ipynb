{
 "cells": [
  {
   "cell_type": "markdown",
   "id": "8fe89f01",
   "metadata": {},
   "source": [
    "# NYC Airbnb Rental Prices Data Exploration"
   ]
  },
  {
   "cell_type": "markdown",
   "id": "e5a31ed9",
   "metadata": {},
   "source": [
    "This notebook demonstrates a data exploration for the given sample [dataset](https://github.com/leolorenzoii/nd0821-c2-build-model-workflow-starter/tree/master/components/get_data/data) of rental prices in New York City."
   ]
  },
  {
   "cell_type": "markdown",
   "id": "4b800045",
   "metadata": {},
   "source": [
    "## Dataset Information"
   ]
  },
  {
   "cell_type": "markdown",
   "id": "98dd4c3f",
   "metadata": {},
   "source": [
    "The sample dataset is a subset of Kaggle's [New York City Airbnb Open Data](https://www.kaggle.com/dgomonov/new-york-city-airbnb-open-data) which is a dataset that describe the listings activity and metrics for the year 2019 in NYC. The dataset consist of `16` columns which we summarize using the table below:\n",
    "\n",
    "| Column Name | Type | Description |\n",
    "| ----------- | ---- | ----------- |\n",
    "| `id` | int| Listing ID |\n",
    "| `name` | str | Name of the listing |\n",
    "| `host_id` | int | Unique ID of the host | \n",
    "| `host_name` | str | Name of the host |\n",
    "| `neighbourhood_group` | str | Location of the listing |\n",
    "| `neighbourhood` | str | Area of the listing |\n",
    "| `latitude` | float | Latitude coordinates |\n",
    "| `longitude` | float | Longitude coordinates |\n",
    "| `room_type` | str | Listing space type |\n",
    "| `price` | int | Price in dollars |\n",
    "| `minimum_nights` | int | Minimum nights required by the listing |\n",
    "| `number_of_reviews` | int | Number of reviews |\n",
    "| `last_review` | date | Date of latest review |\n",
    "| `reviews_per_month` | float | Number of reviews per month |\n",
    "| `calculated_host_listings_count` | int | Amount of listing per host |\n",
    "| `availability_365` | int | Number of days when listing is available for booking |"
   ]
  },
  {
   "cell_type": "markdown",
   "id": "b1fe407b",
   "metadata": {},
   "source": [
    "In our dataset, the `price` will be our target feature, while all the other can be used as predictors. Note however that columns such as `id` and `host_id` won't be useful for our model since they are mere `id`'s of each listing.\n",
    "\n",
    "Furthermore, we observe that **most of the predictors are categorical** in nature, although some derived features such as `reviews_per_month` is numerical. Which imply that *information-based models* might work best for this dataset. Nonetheless, if computational capacity permits, we can also explore using other type of model such as *probabilistic* and *error-based* models during model experimentation."
   ]
  },
  {
   "cell_type": "markdown",
   "id": "aed23a31",
   "metadata": {},
   "source": [
    "## Loading the Dataset"
   ]
  },
  {
   "cell_type": "markdown",
   "id": "1a2df785",
   "metadata": {},
   "source": [
    "Let us know proceed with loading the dataset. First, we import the relevant libraries."
   ]
  },
  {
   "cell_type": "code",
   "execution_count": 1,
   "id": "4233633f",
   "metadata": {
    "ExecuteTime": {
     "end_time": "2021-08-28T13:35:12.124643Z",
     "start_time": "2021-08-28T13:35:10.580086Z"
    }
   },
   "outputs": [],
   "source": [
    "import wandb\n",
    "import pandas as pd"
   ]
  },
  {
   "cell_type": "markdown",
   "id": "4d2616eb",
   "metadata": {},
   "source": [
    "We then initialize our [Weights and Biases](https://wandb.ai/leolorenzoii/nyc_airbnb) run and retrieve the latest `sample.csv` artifact."
   ]
  },
  {
   "cell_type": "code",
   "execution_count": 2,
   "id": "abfee871",
   "metadata": {
    "ExecuteTime": {
     "end_time": "2021-08-28T13:35:18.635640Z",
     "start_time": "2021-08-28T13:35:12.126459Z"
    }
   },
   "outputs": [
    {
     "name": "stderr",
     "output_type": "stream",
     "text": [
      "\u001b[34m\u001b[1mwandb\u001b[0m: Currently logged in as: \u001b[33mleolorenzoii\u001b[0m (use `wandb login --relogin` to force relogin)\n",
      "\u001b[34m\u001b[1mwandb\u001b[0m: wandb version 0.12.1 is available!  To upgrade, please run:\n",
      "\u001b[34m\u001b[1mwandb\u001b[0m:  $ pip install wandb --upgrade\n"
     ]
    },
    {
     "data": {
      "text/html": [
       "\n",
       "                Tracking run with wandb version 0.10.31<br/>\n",
       "                Syncing run <strong style=\"color:#cdcd00\">ethereal-morning-5</strong> to <a href=\"https://wandb.ai\" target=\"_blank\">Weights & Biases</a> <a href=\"https://docs.wandb.com/integrations/jupyter.html\" target=\"_blank\">(Documentation)</a>.<br/>\n",
       "                Project page: <a href=\"https://wandb.ai/leolorenzoii/nyc_airbnb\" target=\"_blank\">https://wandb.ai/leolorenzoii/nyc_airbnb</a><br/>\n",
       "                Run page: <a href=\"https://wandb.ai/leolorenzoii/nyc_airbnb/runs/17jcbiga\" target=\"_blank\">https://wandb.ai/leolorenzoii/nyc_airbnb/runs/17jcbiga</a><br/>\n",
       "                Run data is saved locally in <code>/home/leolorenzoii/udacity/nd0821-c2-build-model-workflow-starter/src/eda/wandb/run-20210828_213512-17jcbiga</code><br/><br/>\n",
       "            "
      ],
      "text/plain": [
       "<IPython.core.display.HTML object>"
      ]
     },
     "metadata": {},
     "output_type": "display_data"
    }
   ],
   "source": [
    "# Initialize weights and biases run then read data\n",
    "run = wandb.init(project=\"nyc_airbnb\", group=\"eda\", save_code=True)\n",
    "local_path = wandb.use_artifact(\"sample.csv:latest\").file()\n",
    "data = pd.read_csv(local_path)"
   ]
  },
  {
   "cell_type": "markdown",
   "id": "8de163a2",
   "metadata": {},
   "source": [
    "The dataset is now loaded as the `data` variable. We can then proceed to perform data exploration on this dataset."
   ]
  },
  {
   "cell_type": "markdown",
   "id": "fb5bf9a3",
   "metadata": {},
   "source": [
    "## Data Exploration"
   ]
  },
  {
   "cell_type": "markdown",
   "id": "0f6f8293",
   "metadata": {},
   "source": [
    "In this section, we proceed to get to know the data using off the shelf tools such as **Pandas Profiling** but also extract insights using custom plots."
   ]
  },
  {
   "cell_type": "markdown",
   "id": "099d8401",
   "metadata": {},
   "source": [
    "### Data Types"
   ]
  },
  {
   "cell_type": "markdown",
   "id": "48a14c48",
   "metadata": {},
   "source": [
    "Let us first look if the data types of the column align with the data dictionary."
   ]
  },
  {
   "cell_type": "code",
   "execution_count": 3,
   "id": "2fd404ba",
   "metadata": {
    "ExecuteTime": {
     "end_time": "2021-08-28T13:35:18.945424Z",
     "start_time": "2021-08-28T13:35:18.637439Z"
    }
   },
   "outputs": [
    {
     "name": "stdout",
     "output_type": "stream",
     "text": [
      "<class 'pandas.core.frame.DataFrame'>\n",
      "RangeIndex: 20000 entries, 0 to 19999\n",
      "Data columns (total 16 columns):\n",
      " #   Column                          Non-Null Count  Dtype  \n",
      "---  ------                          --------------  -----  \n",
      " 0   id                              20000 non-null  int64  \n",
      " 1   name                            19993 non-null  object \n",
      " 2   host_id                         20000 non-null  int64  \n",
      " 3   host_name                       19992 non-null  object \n",
      " 4   neighbourhood_group             20000 non-null  object \n",
      " 5   neighbourhood                   20000 non-null  object \n",
      " 6   latitude                        20000 non-null  float64\n",
      " 7   longitude                       20000 non-null  float64\n",
      " 8   room_type                       20000 non-null  object \n",
      " 9   price                           20000 non-null  int64  \n",
      " 10  minimum_nights                  20000 non-null  int64  \n",
      " 11  number_of_reviews               20000 non-null  int64  \n",
      " 12  last_review                     15877 non-null  object \n",
      " 13  reviews_per_month               15877 non-null  float64\n",
      " 14  calculated_host_listings_count  20000 non-null  int64  \n",
      " 15  availability_365                20000 non-null  int64  \n",
      "dtypes: float64(3), int64(7), object(6)\n",
      "memory usage: 2.4+ MB\n"
     ]
    }
   ],
   "source": [
    "data.info()"
   ]
  },
  {
   "cell_type": "markdown",
   "id": "fb0ec984",
   "metadata": {},
   "source": [
    "Here, we notice that `last_review` which was supposed to be in `datetime` format is in an `object` format instead."
   ]
  },
  {
   "cell_type": "markdown",
   "id": "7abf7d89",
   "metadata": {},
   "source": [
    "### Pandas Profiling"
   ]
  },
  {
   "cell_type": "markdown",
   "id": "4fc4ba13",
   "metadata": {},
   "source": [
    "Let us first look at the profile of the data using `pandas_profiling`. Note that the next cell imports this library and outputs the profile report as a widget in this notebook."
   ]
  },
  {
   "cell_type": "code",
   "execution_count": 4,
   "id": "87224b95",
   "metadata": {
    "ExecuteTime": {
     "end_time": "2021-08-28T13:36:02.467167Z",
     "start_time": "2021-08-28T13:35:18.947047Z"
    }
   },
   "outputs": [
    {
     "data": {
      "application/vnd.jupyter.widget-view+json": {
       "model_id": "e46ae440800e478fba88e2ecba28f5dc",
       "version_major": 2,
       "version_minor": 0
      },
      "text/plain": [
       "Summarize dataset:   0%|          | 0/29 [00:00<?, ?it/s]"
      ]
     },
     "metadata": {},
     "output_type": "display_data"
    },
    {
     "data": {
      "application/vnd.jupyter.widget-view+json": {
       "model_id": "4e13d96a8e604db486e1293e3bab6617",
       "version_major": 2,
       "version_minor": 0
      },
      "text/plain": [
       "Generate report structure:   0%|          | 0/1 [00:00<?, ?it/s]"
      ]
     },
     "metadata": {},
     "output_type": "display_data"
    },
    {
     "data": {
      "application/vnd.jupyter.widget-view+json": {
       "model_id": "",
       "version_major": 2,
       "version_minor": 0
      },
      "text/plain": [
       "Render widgets:   0%|          | 0/1 [00:00<?, ?it/s]"
      ]
     },
     "metadata": {},
     "output_type": "display_data"
    },
    {
     "data": {
      "application/vnd.jupyter.widget-view+json": {
       "model_id": "ac056dae89c94c899af742206e4bf444",
       "version_major": 2,
       "version_minor": 0
      },
      "text/plain": [
       "VBox(children=(Tab(children=(Tab(children=(GridBox(children=(VBox(children=(GridspecLayout(children=(HTML(valu…"
      ]
     },
     "metadata": {},
     "output_type": "display_data"
    }
   ],
   "source": [
    "import pandas_profiling\n",
    "\n",
    "# Create profile report of the dataset and print it to the notebook as widgets\n",
    "profile = pandas_profiling.ProfileReport(data)\n",
    "profile.to_widgets()"
   ]
  },
  {
   "cell_type": "markdown",
   "id": "72f4ac31",
   "metadata": {},
   "source": [
    "Overall, we have a total of `20,000` observations in the dataset, with `8,261` missing cells (comprising of `2.6%` of overall cells). There are `10` numerical features and `6` categorical features.\n",
    "\n",
    "**Observations**:\n",
    "\n",
    "*Warnings*\n",
    "\n",
    "1. Features with *high cardinality* such as `name`, `host_name`, `neighbourhood`, and `last_review` are to be expected.\n",
    "2. All cells with missing values are accounted from the `last_review` and `reviews_per_month` column. This might mean that the missing values are those listings that don't have any reviews. Which aligns with the number of `zeros` that `number_of_reviews` has.\n",
    "3. Another interesting feature of the dataset is the `availability_365` variable, which has a lot of zeros as well. This weirdly imply that more that `35.9%` of the listings in the dataset are not available in any day, but can also mean that some may be on reservation only arrangement.\n",
    "\n",
    "*Univariate Analysis*\n",
    "\n",
    "1. The `neighbourhood_group` is distributed across `5` locations with imbalanceness. Most of the listings are found in `Manhattan` or `Brooklyn`.\n",
    "2. The `neighbourhood` column has *high cardinality* which may be attributed to the number of possible areas in NYC. This can be a good thing, since when we one-hot encode this feature, we may be able to separate and discriminate according to which area of `neighbourhood` they belong.\n",
    "3. The `room_type` also has an imbalanced distribution. It has `3` distinct values, with `Shared room` being very underrepresented.\n",
    "4. The `price` feature has an exponential distribution, which imply the presence of *outliers*. In particular, we see values as high as `$10,000` which may imply very luxurious listings. These values may lead to poor performance for some models. As such, it is recommended that we perform clipping for these values. The recommended action is to consider only values within `$10` and `$350`.\n",
    "5. The `minimum_nights` feature has *outliers* as well. In particular, we see values as high as `1250`, which may imply that those listings can be rented for several years. Nonetheless, the presence of these outliers may make our model perform poor on the dataset. We take note of this fact and investigate further on how to handle this outliers. One possible approach in handling this is by using *clamp transformation*. We can opt to transform too high values to the `95th` percentile which is `30`.\n",
    "6. `number_of_reviews` and `reviews_per_month` both have an exponential distribution. Although tree-based models may be able to handle this behavior, we can also explore using log-normalization to handle outliers and possible make the distribution more normally distributed.\n",
    "\n",
    "*Bivariate Analysis*\n",
    "\n",
    "Although there isn't a striking pair of feature that exhibits a noticeable trend, here are some interesting observations:\n",
    "\n",
    "1. `price` is negatively correlated with `longitude` which might imply that listings on the eastern part of the city is relatively pricier than those in the west.\n",
    "2. From the interaction plot of `latitude` and `longitude`, we notice that there is a region where listings are mostly concentrated. Furthermore there are two hotspots that we can observe from the plot."
   ]
  },
  {
   "cell_type": "markdown",
   "id": "4f8db4cb",
   "metadata": {},
   "source": [
    "### Custom Plots"
   ]
  },
  {
   "cell_type": "markdown",
   "id": "3d7ca382",
   "metadata": {},
   "source": [
    "We further enrich our analysis by considering feature interactions that were not included in the profile report. These are mainly categorical to categorical interactions , categorical to numerical interactions, and a map plot of the listings."
   ]
  },
  {
   "cell_type": "markdown",
   "id": "064bde83",
   "metadata": {},
   "source": [
    "#### Categorical to Categorical"
   ]
  },
  {
   "cell_type": "markdown",
   "id": "0b45f7bf",
   "metadata": {},
   "source": [
    "Here, it would be interesting to see how the `room_type` is distributed among the `neighbourhood_group`. We visualize this interaction using a stacked bar plot"
   ]
  },
  {
   "cell_type": "code",
   "execution_count": 14,
   "id": "21fd609a",
   "metadata": {
    "ExecuteTime": {
     "end_time": "2021-08-28T13:48:12.185462Z",
     "start_time": "2021-08-28T13:48:12.176031Z"
    }
   },
   "outputs": [],
   "source": [
    "import matplotlib.pyplot as plt"
   ]
  },
  {
   "cell_type": "code",
   "execution_count": 72,
   "id": "17d80425",
   "metadata": {
    "ExecuteTime": {
     "end_time": "2021-08-28T14:04:30.729968Z",
     "start_time": "2021-08-28T14:04:30.527281Z"
    }
   },
   "outputs": [
    {
     "name": "stderr",
     "output_type": "stream",
     "text": [
      "/home/leolorenzoii/miniconda3/envs/mlflow-4252732b3c8b7258e089b9564954a9d2d5f783c6/lib/python3.9/site-packages/pandas/plotting/_matplotlib/tools.py:400: MatplotlibDeprecationWarning: \n",
      "The is_first_col function was deprecated in Matplotlib 3.4 and will be removed two minor releases later. Use ax.get_subplotspec().is_first_col() instead.\n",
      "  if ax.is_first_col():\n"
     ]
    },
    {
     "data": {
      "text/plain": [
       "<matplotlib.legend.Legend at 0x7fa8c4ebc6d0>"
      ]
     },
     "execution_count": 72,
     "metadata": {},
     "output_type": "execute_result"
    },
    {
     "data": {
      "image/png": "[encoded data removed]",
      "text/plain": [
       "<Figure size 1152x396 with 2 Axes>"
      ]
     },
     "metadata": {
      "needs_background": "light"
     },
     "output_type": "display_data"
    }
   ],
   "source": [
    "pivoted_data = pd.pivot_table(\n",
    "    data.groupby(['neighbourhood_group', 'room_type']).size().to_frame('count')\n",
    "        .reset_index(),\n",
    "    values='count',\n",
    "    index='neighbourhood_group',\n",
    "    columns='room_type')\n",
    "\n",
    "fig, axes = plt.subplots(1, 2, figsize=(16, 5.5))\n",
    "count_data = data.neighbourhood_group.value_counts()\n",
    "count_data.plot(kind='bar', ax=axes[0])\n",
    "pivot_count = (pivoted_data.divide(pivoted_data.sum(axis=1), axis='index'))\n",
    "pivot_count = pivot_count.loc[count_data.index, :]\n",
    "pivot_count.plot(kind='bar', stacked=True, ax=axes[1])\n",
    "\n",
    "for ax in axes:\n",
    "    ax.tick_params(rotation=0)\n",
    "    ax.spines['top'].set_visible(False)\n",
    "    ax.spines['right'].set_visible(False)\n",
    "axes[1].legend(loc=\"upper left\", bbox_to_anchor=(1.0, 1.0))"
   ]
  },
  {
   "cell_type": "code",
   "execution_count": 65,
   "id": "f204408a",
   "metadata": {
    "ExecuteTime": {
     "end_time": "2021-08-28T14:02:14.431415Z",
     "start_time": "2021-08-28T14:02:14.427257Z"
    }
   },
   "outputs": [
    {
     "data": {
      "text/plain": [
       "[Text(0, 0, 'Bronx'),\n",
       " Text(1, 0, 'Brooklyn'),\n",
       " Text(2, 0, 'Manhattan'),\n",
       " Text(3, 0, 'Queens'),\n",
       " Text(4, 0, 'Staten Island')]"
      ]
     },
     "execution_count": 65,
     "metadata": {},
     "output_type": "execute_result"
    }
   ],
   "source": [
    "axes[1].get_xticklabels()"
   ]
  },
  {
   "cell_type": "markdown",
   "id": "7dd7bbc6",
   "metadata": {},
   "source": [
    "## Data Preprocessing"
   ]
  },
  {
   "cell_type": "markdown",
   "id": "3a90df60",
   "metadata": {},
   "source": [
    "We proceed in performing the recommended preprocessing step based on the information gathered during the Data Exploration step."
   ]
  },
  {
   "cell_type": "markdown",
   "id": "11c2d77b",
   "metadata": {},
   "source": [
    "### Data Type Conversion"
   ]
  },
  {
   "cell_type": "markdown",
   "id": "293f97a1",
   "metadata": {},
   "source": [
    "First, we deal with the mismatched data type that we identified during the exploration step."
   ]
  },
  {
   "cell_type": "code",
   "execution_count": 5,
   "id": "9b95b739",
   "metadata": {
    "ExecuteTime": {
     "end_time": "2021-08-28T13:36:02.751652Z",
     "start_time": "2021-08-28T13:36:02.469775Z"
    }
   },
   "outputs": [],
   "source": [
    "data['last_review'] = pd.to_datetime(data['last_review'])"
   ]
  },
  {
   "cell_type": "markdown",
   "id": "4fc10c08",
   "metadata": {},
   "source": [
    "### Dropping of Outliers"
   ]
  },
  {
   "cell_type": "markdown",
   "id": "d404362d",
   "metadata": {},
   "source": [
    "Next, we drop outliers of the `price` column, only considering rows that is between `$10` and `$350`."
   ]
  },
  {
   "cell_type": "code",
   "execution_count": 6,
   "id": "03db5a57",
   "metadata": {
    "ExecuteTime": {
     "end_time": "2021-08-28T13:36:03.111349Z",
     "start_time": "2021-08-28T13:36:02.753707Z"
    }
   },
   "outputs": [],
   "source": [
    "# Set minimum and maximum price\n",
    "min_price = 10\n",
    "max_price = 350\n",
    "\n",
    "# Get rows that is between these two prices\n",
    "idx = data['price'].between(min_price, max_price)\n",
    "clean_data = data[idx].copy()"
   ]
  },
  {
   "cell_type": "markdown",
   "id": "0a3db53c",
   "metadata": {},
   "source": [
    "## Data Quality Verification"
   ]
  },
  {
   "cell_type": "markdown",
   "id": "683c35f4",
   "metadata": {},
   "source": [
    "We then proceed to verify that our changes has been reflected in the cleaned data frame."
   ]
  },
  {
   "cell_type": "markdown",
   "id": "0607e5a7",
   "metadata": {},
   "source": [
    "### Data type check"
   ]
  },
  {
   "cell_type": "markdown",
   "id": "1f052ed8",
   "metadata": {},
   "source": [
    "First, we look at the data types and number of non-null count for each column."
   ]
  },
  {
   "cell_type": "code",
   "execution_count": 7,
   "id": "f2a2e02c",
   "metadata": {
    "ExecuteTime": {
     "end_time": "2021-08-28T13:36:03.450411Z",
     "start_time": "2021-08-28T13:36:03.112511Z"
    }
   },
   "outputs": [
    {
     "name": "stdout",
     "output_type": "stream",
     "text": [
      "<class 'pandas.core.frame.DataFrame'>\n",
      "Int64Index: 19001 entries, 0 to 19999\n",
      "Data columns (total 16 columns):\n",
      " #   Column                          Non-Null Count  Dtype         \n",
      "---  ------                          --------------  -----         \n",
      " 0   id                              19001 non-null  int64         \n",
      " 1   name                            18994 non-null  object        \n",
      " 2   host_id                         19001 non-null  int64         \n",
      " 3   host_name                       18993 non-null  object        \n",
      " 4   neighbourhood_group             19001 non-null  object        \n",
      " 5   neighbourhood                   19001 non-null  object        \n",
      " 6   latitude                        19001 non-null  float64       \n",
      " 7   longitude                       19001 non-null  float64       \n",
      " 8   room_type                       19001 non-null  object        \n",
      " 9   price                           19001 non-null  int64         \n",
      " 10  minimum_nights                  19001 non-null  int64         \n",
      " 11  number_of_reviews               19001 non-null  int64         \n",
      " 12  last_review                     15243 non-null  datetime64[ns]\n",
      " 13  reviews_per_month               15243 non-null  float64       \n",
      " 14  calculated_host_listings_count  19001 non-null  int64         \n",
      " 15  availability_365                19001 non-null  int64         \n",
      "dtypes: datetime64[ns](1), float64(3), int64(7), object(5)\n",
      "memory usage: 2.5+ MB\n"
     ]
    }
   ],
   "source": [
    "clean_data.info()"
   ]
  },
  {
   "cell_type": "markdown",
   "id": "2cd09b8b",
   "metadata": {},
   "source": [
    "Here, notice that `reviews_per_month` is now correctly formatted as `datetime`."
   ]
  },
  {
   "cell_type": "markdown",
   "id": "d1bbee29",
   "metadata": {},
   "source": [
    "### Clean Data Profile"
   ]
  },
  {
   "cell_type": "markdown",
   "id": "d90a15f6",
   "metadata": {},
   "source": [
    "Now let's look at the data profile of the cleaned data."
   ]
  },
  {
   "cell_type": "code",
   "execution_count": 8,
   "id": "f3c37f83",
   "metadata": {
    "ExecuteTime": {
     "end_time": "2021-08-28T13:36:49.293356Z",
     "start_time": "2021-08-28T13:36:03.451522Z"
    },
    "scrolled": false
   },
   "outputs": [
    {
     "data": {
      "application/vnd.jupyter.widget-view+json": {
       "model_id": "28d2507dd4974692ab26796a7d4cb874",
       "version_major": 2,
       "version_minor": 0
      },
      "text/plain": [
       "Summarize dataset:   0%|          | 0/30 [00:00<?, ?it/s]"
      ]
     },
     "metadata": {},
     "output_type": "display_data"
    },
    {
     "data": {
      "application/vnd.jupyter.widget-view+json": {
       "model_id": "457cd5448c874e899027a0b69be72661",
       "version_major": 2,
       "version_minor": 0
      },
      "text/plain": [
       "Generate report structure:   0%|          | 0/1 [00:00<?, ?it/s]"
      ]
     },
     "metadata": {},
     "output_type": "display_data"
    },
    {
     "data": {
      "application/vnd.jupyter.widget-view+json": {
       "model_id": "",
       "version_major": 2,
       "version_minor": 0
      },
      "text/plain": [
       "Render widgets:   0%|          | 0/1 [00:00<?, ?it/s]"
      ]
     },
     "metadata": {},
     "output_type": "display_data"
    },
    {
     "data": {
      "application/vnd.jupyter.widget-view+json": {
       "model_id": "71492f69462b48069623ab5a6d566b56",
       "version_major": 2,
       "version_minor": 0
      },
      "text/plain": [
       "VBox(children=(Tab(children=(Tab(children=(GridBox(children=(VBox(children=(GridspecLayout(children=(HTML(valu…"
      ]
     },
     "metadata": {},
     "output_type": "display_data"
    }
   ],
   "source": [
    "clean_data_profile = pandas_profiling.ProfileReport(clean_data)\n",
    "clean_data_profile.to_widgets()"
   ]
  },
  {
   "cell_type": "markdown",
   "id": "f1e08b53",
   "metadata": {},
   "source": [
    "Here, notice that the outliers for the `price` column has been correctly handled."
   ]
  },
  {
   "cell_type": "markdown",
   "id": "14a22a5e",
   "metadata": {},
   "source": [
    "## Data Quality Plan"
   ]
  },
  {
   "cell_type": "markdown",
   "id": "c25048a6",
   "metadata": {},
   "source": [
    "Finally, we present a summary of the important data quality issues that we saw in the dataset that *has been* or *needs to be handled* in the data preprocessing or pre-inference stage."
   ]
  },
  {
   "cell_type": "markdown",
   "id": "7611c9fd",
   "metadata": {},
   "source": [
    "| Feature | Data Quality Issue | Potential Handling Strategies | Step/Point of Handling |\n",
    "| ------- | ------------------ | ----------------------------- | ---------------------- |\n",
    "| `last_review` | More than `20.6%` of the rows have missing values | Impute an arbitrary `date` value that corresponds to `no review` dates | Inference Pipeline | \n",
    "| `reviews_per_month` | More than `20.6%` of the rows have missing values | Impute a `zero` value which corresponds to no reviews per month | Inference Pipeline |\n",
    "| `price` | Presence of outliers (high and low values) | Consider prices only at `$10$` to `$350` | Preprocess Pipeline |\n",
    "| `minimum_nights` | Presence of outliers (high-values) | Clamp Transformation (1, 30) | Inference Pipeline |\n",
    "| `number_of_reviews` | Presence of outliers | Log-normalization | Inference Pipeline |\n",
    "| `reviews_per_month` | Presence of outliers | Log-normalization | Inference Pipeline |"
   ]
  },
  {
   "cell_type": "code",
   "execution_count": 9,
   "id": "d24f7cb3",
   "metadata": {
    "ExecuteTime": {
     "end_time": "2021-08-28T13:36:58.520852Z",
     "start_time": "2021-08-28T13:36:49.297659Z"
    }
   },
   "outputs": [
    {
     "data": {
      "text/html": [
       "<br/>Waiting for W&B process to finish, PID 11022<br/>Program ended successfully."
      ],
      "text/plain": [
       "<IPython.core.display.HTML object>"
      ]
     },
     "metadata": {},
     "output_type": "display_data"
    },
    {
     "data": {
      "application/vnd.jupyter.widget-view+json": {
       "model_id": "",
       "version_major": 2,
       "version_minor": 0
      },
      "text/plain": [
       "VBox(children=(Label(value=' 0.10MB of 0.10MB uploaded (0.02MB deduped)\\r'), FloatProgress(value=1.0, max=1.0)…"
      ]
     },
     "metadata": {},
     "output_type": "display_data"
    },
    {
     "data": {
      "text/html": [
       "Find user logs for this run at: <code>/home/leolorenzoii/udacity/nd0821-c2-build-model-workflow-starter/src/eda/wandb/run-20210828_213512-17jcbiga/logs/debug.log</code>"
      ],
      "text/plain": [
       "<IPython.core.display.HTML object>"
      ]
     },
     "metadata": {},
     "output_type": "display_data"
    },
    {
     "data": {
      "text/html": [
       "Find internal logs for this run at: <code>/home/leolorenzoii/udacity/nd0821-c2-build-model-workflow-starter/src/eda/wandb/run-20210828_213512-17jcbiga/logs/debug-internal.log</code>"
      ],
      "text/plain": [
       "<IPython.core.display.HTML object>"
      ]
     },
     "metadata": {},
     "output_type": "display_data"
    },
    {
     "data": {
      "text/html": [
       "Synced 7 W&B file(s), 0 media file(s), 3 artifact file(s) and 1 other file(s)"
      ],
      "text/plain": [
       "<IPython.core.display.HTML object>"
      ]
     },
     "metadata": {},
     "output_type": "display_data"
    },
    {
     "data": {
      "text/html": [
       "\n",
       "                    <br/>Synced <strong style=\"color:#cdcd00\">ethereal-morning-5</strong>: <a href=\"https://wandb.ai/leolorenzoii/nyc_airbnb/runs/17jcbiga\" target=\"_blank\">https://wandb.ai/leolorenzoii/nyc_airbnb/runs/17jcbiga</a><br/>\n",
       "                "
      ],
      "text/plain": [
       "<IPython.core.display.HTML object>"
      ]
     },
     "metadata": {},
     "output_type": "display_data"
    }
   ],
   "source": [
    "# Finish the run\n",
    "run.finish()"
   ]
  }
 ],
 "metadata": {
  "kernelspec": {
   "display_name": "Python 3 (ipykernel)",
   "language": "python",
   "name": "python3"
  },
  "language_info": {
   "codemirror_mode": {
    "name": "ipython",
    "version": 3
   },
   "file_extension": ".py",
   "mimetype": "text/x-python",
   "name": "python",
   "nbconvert_exporter": "python",
   "pygments_lexer": "ipython3",
   "version": "3.9.6"
  }
 },
 "nbformat": 4,
 "nbformat_minor": 5
}
